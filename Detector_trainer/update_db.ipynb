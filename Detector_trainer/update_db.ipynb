{
 "cells": [
  {
   "cell_type": "code",
   "execution_count": 1,
   "metadata": {},
   "outputs": [
    {
     "name": "stdout",
     "output_type": "stream",
     "text": [
      "Collecting psycopg2-binary\n",
      "  Downloading psycopg2_binary-2.9.9-cp311-cp311-macosx_11_0_arm64.whl (2.6 MB)\n",
      "\u001b[2K     \u001b[90m━━━━━━━━━━━━━━━━━━━━━━━━━━━━━━━━━━━━━━━━\u001b[0m \u001b[32m2.6/2.6 MB\u001b[0m \u001b[31m3.7 MB/s\u001b[0m eta \u001b[36m0:00:00\u001b[0m00:01\u001b[0m00:01\u001b[0m\n",
      "\u001b[?25hInstalling collected packages: psycopg2-binary\n",
      "Successfully installed psycopg2-binary-2.9.9\n"
     ]
    }
   ],
   "source": [
    "!pip install psycopg2-binary\n",
    "\n"
   ]
  },
  {
   "cell_type": "code",
   "execution_count": 1,
   "metadata": {},
   "outputs": [
    {
     "data": {
      "text/plain": [
       "True"
      ]
     },
     "execution_count": 1,
     "metadata": {},
     "output_type": "execute_result"
    }
   ],
   "source": [
    "from peewee import Model, PostgresqlDatabase, CharField, UUIDField, IntegerField, SQL\n",
    "import uuid\n",
    "from uuid import UUID\n",
    "db = PostgresqlDatabase('parking-tracker', user='postgres', password='postgres', host='localhost', port=5432)\n",
    "\n",
    "class Parkings(Model):\n",
    "    id = IntegerField(primary_key=True)  # Serial in PostgreSQL is typically represented as an IntegerField in Peewee\n",
    "    display_id = UUIDField(default=uuid.uuid4, unique=True, index=True, null=False)\n",
    "    latitude = CharField(max_length=100)\n",
    "    longitude = CharField(max_length=100)\n",
    "    polygon_axes = CharField(max_length = 100)\n",
    "    curr_motor = IntegerField(default=0)\n",
    "    max_space = IntegerField(default=0)\n",
    "    class Meta:\n",
    "        database = db\n",
    "        table_name = 'parkings'\n",
    "    def __str__(self):\n",
    "        return f\"Parking(\\nid={self.id}, \\ndisplay_id={self.display_id}, \\nlatitude={self.latitude}, \\nlongitude={self.longitude}, \\ncurr_motor={self.curr_motor}, \\nmax_space={self.max_space})\"\n",
    "        \n",
    "\n",
    "db.connect()\n",
    "# db.create_tables([Parkings])\n"
   ]
  },
  {
   "cell_type": "code",
   "execution_count": 2,
   "metadata": {},
   "outputs": [],
   "source": [
    "# Inserting new instance of parking\n",
    "new_parking = Parkings.create(\n",
    "  latitude = '25.01370607644918',\n",
    "  longitude = '121.53468199176018',\n",
    "  curr_motor = 2,\n",
    "  max_space = 10,\n",
    ")\n",
    "\n"
   ]
  },
  {
   "cell_type": "code",
   "execution_count": 28,
   "metadata": {},
   "outputs": [
    {
     "name": "stdout",
     "output_type": "stream",
     "text": [
      "ba16a376-a4bc-48aa-84cf-3b65e666e976\n"
     ]
    }
   ],
   "source": [
    "print(new_parking.display_id)"
   ]
  },
  {
   "cell_type": "code",
   "execution_count": 54,
   "metadata": {},
   "outputs": [
    {
     "data": {
      "text/plain": [
       "1"
      ]
     },
     "execution_count": 54,
     "metadata": {},
     "output_type": "execute_result"
    }
   ],
   "source": [
    "# Updating table\n",
    "Parkings.update(curr_motor = 5).where(Parkings.display_id == 'ba16a376-a4bc-48aa-84cf-3b65e666e976').execute()\n"
   ]
  },
  {
   "cell_type": "code",
   "execution_count": 69,
   "metadata": {},
   "outputs": [
    {
     "name": "stdout",
     "output_type": "stream",
     "text": [
      "[[1,1],[2,2],[3,3]]\n"
     ]
    }
   ],
   "source": [
    "# Get data from table\n",
    "import ast\n",
    "parking = Parkings.get(Parkings.display_id == '712b78b3-28dd-404d-b0b2-232628097ba6')\n",
    "str_polygon_axes = parking.polygon_axes\n",
    "if str_polygon_axes != None:\n",
    "  polygons_axes = ast.literal_eval(parking.polygon_axes)\n",
    "  print(parking.polygon_axes)"
   ]
  },
  {
   "cell_type": "code",
   "execution_count": 66,
   "metadata": {},
   "outputs": [],
   "source": [
    "#Create or Update if created\n",
    "def create_or_get_parking( display_id: uuid.UUID, latitude: str = None, longitude: str = None, curr_motor: int = 0, max_space: int = 0):\n",
    "    defaults = dict()\n",
    "    if longitude != None or longitude != None: #Create Parking\n",
    "      defaults = {'display_id':display_id, 'latitude': latitude, 'longitude': longitude, 'curr_motor':curr_motor}\n",
    "    else: #Update Parking\n",
    "      defaults = {'curr_motor': curr_motor}\n",
    "    parking, created = Parkings.get_or_create(\n",
    "      display_id=display_id,\n",
    "      defaults=defaults)\n",
    "    return parking"
   ]
  },
  {
   "cell_type": "code",
   "execution_count": 67,
   "metadata": {},
   "outputs": [
    {
     "data": {
      "text/plain": [
       "<Parkings: Parking(\n",
       "id=11, \n",
       "display_id=e48dbd94-cd7a-42ec-b93c-da68c9f1be17, \n",
       "latitude=None, \n",
       "longitude=None, \n",
       "curr_motor=0, \n",
       "max_space=0)>"
      ]
     },
     "execution_count": 67,
     "metadata": {},
     "output_type": "execute_result"
    }
   ],
   "source": [
    "from update_db import create_or_get_parking\n",
    "parking_data = {'state': 'Registering', 'uuid': 'e48dbd94-cd7a-42ec-b93c-da68c9f1be17', 'latitude': None, 'longitude': None, 'curr_motor': 0}\n",
    "state = parking_data['state']\n",
    "uuid = parking_data['uuid']\n",
    "latitude = parking_data['latitude']\n",
    "longitude = parking_data['longitude']\n",
    "curr_motor = parking_data['curr_motor']\n",
    "\n",
    "create_or_get_parking(uuid, latitude, longitude, curr_motor)"
   ]
  },
  {
   "cell_type": "code",
   "execution_count": null,
   "metadata": {},
   "outputs": [],
   "source": [
    "#"
   ]
  }
 ],
 "metadata": {
  "kernelspec": {
   "display_name": "base",
   "language": "python",
   "name": "python3"
  },
  "language_info": {
   "codemirror_mode": {
    "name": "ipython",
    "version": 3
   },
   "file_extension": ".py",
   "mimetype": "text/x-python",
   "name": "python",
   "nbconvert_exporter": "python",
   "pygments_lexer": "ipython3",
   "version": "3.11.0"
  },
  "orig_nbformat": 4
 },
 "nbformat": 4,
 "nbformat_minor": 2
}
